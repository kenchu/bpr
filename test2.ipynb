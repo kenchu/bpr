{
 "cells": [
  {
   "cell_type": "code",
   "execution_count": 13,
   "metadata": {},
   "outputs": [],
   "source": [
    "import torch\n",
    "import torch.nn as nn \n",
    "\n",
    "\n",
    "class BPR(nn.Module):\n",
    "    def __init__(self, user_size, item_size, dim, weight_decay):\n",
    "        super().__init__()\n",
    "        self.W = nn.Parameter(torch.empty(user_size, dim))\n",
    "        self.H = nn.Parameter(torch.empty(item_size, dim))\n",
    "        nn.init.xavier_normal_(self.W.data)\n",
    "        nn.init.xavier_normal_(self.H.data)\n",
    "        self.weight_decay = weight_decay\n",
    "\n",
    "    def forward(self, u, i, j):\n",
    "        \"\"\"Return loss value.\n",
    "\n",
    "        Args:\n",
    "            u(torch.LongTensor): tensor stored user indexes. [batch_size,]\n",
    "            i(torch.LongTensor): tensor stored item indexes which is prefered by user. [batch_size,]\n",
    "            j(torch.LongTensor): tensor stored item indexes which is not prefered by user. [batch_size,]\n",
    "\n",
    "        Returns:\n",
    "            torch.FloatTensor\n",
    "        \"\"\"\n",
    "        u = self.W[u, :]\n",
    "        i = self.H[i, :]\n",
    "        j = self.H[j, :]\n",
    "        x_ui = torch.mul(u, i).sum(dim=1)\n",
    "        x_uj = torch.mul(u, j).sum(dim=1)\n",
    "        x_uij = x_ui - x_uj\n",
    "        log_prob = nn.logsigmoid(x_uij).sum()\n",
    "        regularization = self.weight_decay * (u.norm(dim=1).pow(2).sum() + i.norm(dim=1).pow(2).sum() + j.norm(dim=1).pow(2).sum())\n",
    "        return -log_prob + regularization\n",
    "\n",
    "    def recommend(self, u):\n",
    "        \"\"\"Return recommended item list given users.\n",
    "\n",
    "        Args:\n",
    "            u(torch.LongTensor): tensor stored user indexes. [batch_size,]\n",
    "\n",
    "        Returns:\n",
    "            pred(torch.LongTensor): recommended item list sorted by preference. [batch_size, item_size]\n",
    "        \"\"\"\n",
    "        u = self.W[u, :]\n",
    "        x_ui = torch.mm(u, self.H.t())\n",
    "        pred = torch.argsort(x_ui, dim=1)\n",
    "        return pred\n"
   ]
  },
  {
   "cell_type": "code",
   "execution_count": 14,
   "metadata": {},
   "outputs": [],
   "source": [
    "import numpy as np\n",
    "\n",
    "\n",
    "def convert_unique_idx(df, column_name):\n",
    "    column_dict = {x: i for i, x in enumerate(df[column_name].unique())}\n",
    "    df[column_name] = df[column_name].apply(column_dict.get)\n",
    "    df[column_name] = df[column_name].astype('int')\n",
    "    assert df[column_name].min() == 0\n",
    "    assert df[column_name].max() == len(column_dict) - 1\n",
    "    return df, column_dict\n",
    "\n",
    "def split_train_test(df, user_size, test_size=0.2, time_order=False):\n",
    "    \"\"\"Split a dataset into `train_user_list` and `test_user_list`.\n",
    "    Because it needs `user_list` for splitting dataset as `time_order` is set,\n",
    "    Returning `user_list` data structure will be a good choice.\"\"\"\n",
    "    # TODO: Handle duplicated items\n",
    "    if not time_order:\n",
    "        test_idx = np.random.choice(len(df), size=int(len(df)*test_size))\n",
    "        train_idx = list(set(range(len(df))) - set(test_idx))\n",
    "        test_df = df.loc[test_idx].reset_index(drop=True)\n",
    "        train_df = df.loc[train_idx].reset_index(drop=True)\n",
    "        test_user_list = create_user_list(test_df, user_size)\n",
    "        train_user_list = create_user_list(train_df, user_size)\n",
    "    else:\n",
    "        total_user_list = create_user_list(df, user_size)\n",
    "        print(len(total_user_list))\n",
    "        train_user_list = [None] * len(total_user_list)\n",
    "        test_user_list = [None] * len(total_user_list)\n",
    "        for user, item_list in enumerate(total_user_list):\n",
    "            # Choose latest item\n",
    "            item_list = sorted(item_list, key=lambda x: x[0])\n",
    "            # Split item\n",
    "            test_item = item_list[math.ceil(len(item_list)*(1-test_size)):]\n",
    "            train_item = item_list[:math.ceil(len(item_list)*(1-test_size))]\n",
    "            # Register to each user list\n",
    "            test_user_list[user] = test_item\n",
    "            train_user_list[user] = train_item\n",
    "    # Remove time\n",
    "    test_user_list = [list(map(lambda x: x[1], l)) for l in test_user_list]\n",
    "    train_user_list = [list(map(lambda x: x[1], l)) for l in train_user_list]\n",
    "    return train_user_list, test_user_list\n",
    "\n",
    "def create_pair(user_list):\n",
    "    pair = []\n",
    "    for user, item_list in enumerate(user_list):\n",
    "        pair.extend([(user, item) for item in item_list])\n",
    "    return pair\n"
   ]
  },
  {
   "cell_type": "code",
   "execution_count": 15,
   "metadata": {},
   "outputs": [],
   "source": [
    "import pandas as pd\n",
    "\n",
    "from bpr import BPR\n",
    "import bpr1\n",
    "\n",
    "df_train = pd.read_csv(\"data/train.txt\", sep=\"\\t\")\n",
    "df_test = pd.read_csv(\"data/test.txt\", sep=\"\\t\")\n",
    "df_valid = pd.read_csv(\"data/vali.txt\", sep=\"\\t\")\n",
    "# print(pd_train.describe())\n",
    "\n",
    "\n",
    "# df, user_mapping = convert_unique_idx(df, 'user')\n",
    "# df, item_mapping = convert_unique_idx(df, 'item')\n",
    "# train_user_list, test_user_list = split_train_test(df,\n",
    "#                                                      user_size,\n",
    "#                                                      test_size=args.test_size,\n",
    "#                                                      time_order=args.time_order)\n",
    "# bpr = BPR.forward()\n",
    "\n",
    "user_idx = bpr1.convert_unique_idx(df_train, \"user_id\")\n",
    "item_idx = bpr1.convert_unique_idx(df_train, \"item_id\")\n",
    "\n",
    "train_pair = bpr1.create_pair(user_idx)\n"
   ]
  },
  {
   "cell_type": "code",
   "execution_count": 16,
   "metadata": {},
   "outputs": [
    {
     "data": {
      "text/plain": [
       "'1.12.1'"
      ]
     },
     "execution_count": 16,
     "metadata": {},
     "output_type": "execute_result"
    }
   ],
   "source": [
    "torch.__version__"
   ]
  },
  {
   "cell_type": "code",
   "execution_count": null,
   "metadata": {},
   "outputs": [],
   "source": []
  }
 ],
 "metadata": {
  "kernelspec": {
   "display_name": "Python 3.10.8 ('.venv': venv)",
   "language": "python",
   "name": "python3"
  },
  "language_info": {
   "codemirror_mode": {
    "name": "ipython",
    "version": 3
   },
   "file_extension": ".py",
   "mimetype": "text/x-python",
   "name": "python",
   "nbconvert_exporter": "python",
   "pygments_lexer": "ipython3",
   "version": "3.10.8"
  },
  "orig_nbformat": 4,
  "vscode": {
   "interpreter": {
    "hash": "abf09df545a620efd0fce530660678bda980672eb17dad46712cf56f8df7a29b"
   }
  }
 },
 "nbformat": 4,
 "nbformat_minor": 2
}
