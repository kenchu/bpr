{
 "cells": [
  {
   "cell_type": "code",
   "execution_count": 21,
   "metadata": {},
   "outputs": [
    {
     "name": "stdout",
     "output_type": "stream",
     "text": [
      "Requirement already satisfied: torch in ./.venv/lib/python3.10/site-packages (1.12.1)\n",
      "Requirement already satisfied: sklearn in ./.venv/lib/python3.10/site-packages (0.0)\n",
      "Requirement already satisfied: pandas in ./.venv/lib/python3.10/site-packages (1.5.1)\n",
      "Requirement already satisfied: matplotlib in ./.venv/lib/python3.10/site-packages (3.6.1)\n",
      "Requirement already satisfied: ipywidgets in ./.venv/lib/python3.10/site-packages (8.0.2)\n",
      "Requirement already satisfied: typing-extensions in ./.venv/lib/python3.10/site-packages (from torch) (4.4.0)\n",
      "Requirement already satisfied: scikit-learn in ./.venv/lib/python3.10/site-packages (from sklearn) (1.1.2)\n",
      "Requirement already satisfied: pytz>=2020.1 in ./.venv/lib/python3.10/site-packages (from pandas) (2022.5)\n",
      "Requirement already satisfied: numpy>=1.21.0 in ./.venv/lib/python3.10/site-packages (from pandas) (1.23.4)\n",
      "Requirement already satisfied: python-dateutil>=2.8.1 in ./.venv/lib/python3.10/site-packages (from pandas) (2.8.2)\n",
      "Requirement already satisfied: contourpy>=1.0.1 in ./.venv/lib/python3.10/site-packages (from matplotlib) (1.0.5)\n",
      "Requirement already satisfied: pillow>=6.2.0 in ./.venv/lib/python3.10/site-packages (from matplotlib) (9.2.0)\n",
      "Requirement already satisfied: cycler>=0.10 in ./.venv/lib/python3.10/site-packages (from matplotlib) (0.11.0)\n",
      "Requirement already satisfied: fonttools>=4.22.0 in ./.venv/lib/python3.10/site-packages (from matplotlib) (4.38.0)\n",
      "Requirement already satisfied: kiwisolver>=1.0.1 in ./.venv/lib/python3.10/site-packages (from matplotlib) (1.4.4)\n",
      "Requirement already satisfied: pyparsing>=2.2.1 in ./.venv/lib/python3.10/site-packages (from matplotlib) (3.0.9)\n",
      "Requirement already satisfied: packaging>=20.0 in ./.venv/lib/python3.10/site-packages (from matplotlib) (21.3)\n",
      "Requirement already satisfied: widgetsnbextension~=4.0 in ./.venv/lib/python3.10/site-packages (from ipywidgets) (4.0.3)\n",
      "Requirement already satisfied: traitlets>=4.3.1 in ./.venv/lib/python3.10/site-packages (from ipywidgets) (5.5.0)\n",
      "Requirement already satisfied: ipython>=6.1.0 in ./.venv/lib/python3.10/site-packages (from ipywidgets) (8.5.0)\n",
      "Requirement already satisfied: ipykernel>=4.5.1 in ./.venv/lib/python3.10/site-packages (from ipywidgets) (6.16.1)\n",
      "Requirement already satisfied: jupyterlab-widgets~=3.0 in ./.venv/lib/python3.10/site-packages (from ipywidgets) (3.0.3)\n",
      "Requirement already satisfied: matplotlib-inline>=0.1 in ./.venv/lib/python3.10/site-packages (from ipykernel>=4.5.1->ipywidgets) (0.1.6)\n",
      "Requirement already satisfied: pyzmq>=17 in ./.venv/lib/python3.10/site-packages (from ipykernel>=4.5.1->ipywidgets) (24.0.1)\n",
      "Requirement already satisfied: nest-asyncio in ./.venv/lib/python3.10/site-packages (from ipykernel>=4.5.1->ipywidgets) (1.5.6)\n",
      "Requirement already satisfied: debugpy>=1.0 in ./.venv/lib/python3.10/site-packages (from ipykernel>=4.5.1->ipywidgets) (1.6.3)\n",
      "Requirement already satisfied: jupyter-client>=6.1.12 in ./.venv/lib/python3.10/site-packages (from ipykernel>=4.5.1->ipywidgets) (7.4.3)\n",
      "Requirement already satisfied: appnope in ./.venv/lib/python3.10/site-packages (from ipykernel>=4.5.1->ipywidgets) (0.1.3)\n",
      "Requirement already satisfied: psutil in ./.venv/lib/python3.10/site-packages (from ipykernel>=4.5.1->ipywidgets) (5.9.3)\n",
      "Requirement already satisfied: tornado>=6.1 in ./.venv/lib/python3.10/site-packages (from ipykernel>=4.5.1->ipywidgets) (6.2)\n",
      "Requirement already satisfied: jedi>=0.16 in ./.venv/lib/python3.10/site-packages (from ipython>=6.1.0->ipywidgets) (0.18.1)\n",
      "Requirement already satisfied: decorator in ./.venv/lib/python3.10/site-packages (from ipython>=6.1.0->ipywidgets) (5.1.1)\n",
      "Requirement already satisfied: pexpect>4.3 in ./.venv/lib/python3.10/site-packages (from ipython>=6.1.0->ipywidgets) (4.8.0)\n",
      "Requirement already satisfied: pygments>=2.4.0 in ./.venv/lib/python3.10/site-packages (from ipython>=6.1.0->ipywidgets) (2.13.0)\n",
      "Requirement already satisfied: backcall in ./.venv/lib/python3.10/site-packages (from ipython>=6.1.0->ipywidgets) (0.2.0)\n",
      "Requirement already satisfied: stack-data in ./.venv/lib/python3.10/site-packages (from ipython>=6.1.0->ipywidgets) (0.5.1)\n",
      "Requirement already satisfied: prompt-toolkit<3.1.0,>3.0.1 in ./.venv/lib/python3.10/site-packages (from ipython>=6.1.0->ipywidgets) (3.0.31)\n",
      "Requirement already satisfied: pickleshare in ./.venv/lib/python3.10/site-packages (from ipython>=6.1.0->ipywidgets) (0.7.5)\n",
      "Requirement already satisfied: six>=1.5 in ./.venv/lib/python3.10/site-packages (from python-dateutil>=2.8.1->pandas) (1.16.0)\n",
      "Requirement already satisfied: joblib>=1.0.0 in ./.venv/lib/python3.10/site-packages (from scikit-learn->sklearn) (1.2.0)\n",
      "Requirement already satisfied: scipy>=1.3.2 in ./.venv/lib/python3.10/site-packages (from scikit-learn->sklearn) (1.9.3)\n",
      "Requirement already satisfied: threadpoolctl>=2.0.0 in ./.venv/lib/python3.10/site-packages (from scikit-learn->sklearn) (3.1.0)\n",
      "Requirement already satisfied: parso<0.9.0,>=0.8.0 in ./.venv/lib/python3.10/site-packages (from jedi>=0.16->ipython>=6.1.0->ipywidgets) (0.8.3)\n",
      "Requirement already satisfied: entrypoints in ./.venv/lib/python3.10/site-packages (from jupyter-client>=6.1.12->ipykernel>=4.5.1->ipywidgets) (0.4)\n",
      "Requirement already satisfied: jupyter-core>=4.9.2 in ./.venv/lib/python3.10/site-packages (from jupyter-client>=6.1.12->ipykernel>=4.5.1->ipywidgets) (4.11.2)\n",
      "Requirement already satisfied: ptyprocess>=0.5 in ./.venv/lib/python3.10/site-packages (from pexpect>4.3->ipython>=6.1.0->ipywidgets) (0.7.0)\n",
      "Requirement already satisfied: wcwidth in ./.venv/lib/python3.10/site-packages (from prompt-toolkit<3.1.0,>3.0.1->ipython>=6.1.0->ipywidgets) (0.2.5)\n",
      "Requirement already satisfied: executing in ./.venv/lib/python3.10/site-packages (from stack-data->ipython>=6.1.0->ipywidgets) (1.1.1)\n",
      "Requirement already satisfied: asttokens in ./.venv/lib/python3.10/site-packages (from stack-data->ipython>=6.1.0->ipywidgets) (2.0.8)\n",
      "Requirement already satisfied: pure-eval in ./.venv/lib/python3.10/site-packages (from stack-data->ipython>=6.1.0->ipywidgets) (0.2.2)\n"
     ]
    }
   ],
   "source": [
    "!pip install torch sklearn pandas matplotlib ipywidgets"
   ]
  },
  {
   "cell_type": "code",
   "execution_count": 22,
   "metadata": {},
   "outputs": [
    {
     "data": {
      "text/plain": [
       "'1.12.1'"
      ]
     },
     "execution_count": 22,
     "metadata": {},
     "output_type": "execute_result"
    }
   ],
   "source": [
    "import torch\n",
    "torch.__version__"
   ]
  },
  {
   "cell_type": "code",
   "execution_count": 41,
   "metadata": {},
   "outputs": [],
   "source": [
    "import pandas as pd\n",
    "pd.set_option('display.max_colwidth', None)\n",
    "from sklearn import preprocessing as pp\n",
    "from sklearn.model_selection import train_test_split\n",
    "import scipy.sparse as sp\n",
    "import numpy as np\n",
    "import random\n",
    "import torch.nn as nn\n",
    "from torch.utils.data import Dataset, DataLoader\n",
    "import time\n",
    "import matplotlib.pyplot as plt\n",
    "# from tqdm.notebook import tqdm\n",
    "from tqdm import tqdm\n"
   ]
  },
  {
   "cell_type": "markdown",
   "metadata": {},
   "source": [
    "### Load Data"
   ]
  },
  {
   "cell_type": "code",
   "execution_count": 24,
   "metadata": {},
   "outputs": [],
   "source": [
    "train = pd.read_table(\"data/train.txt\")\n",
    "test = pd.read_table(\"data/test.txt\")"
   ]
  },
  {
   "cell_type": "markdown",
   "metadata": {},
   "source": [
    "### Label Encoding the User and Item IDs"
   ]
  },
  {
   "cell_type": "code",
   "execution_count": 25,
   "metadata": {},
   "outputs": [],
   "source": [
    "le_user = pp.LabelEncoder()\n",
    "le_item = pp.LabelEncoder()\n",
    "train['user_id_idx'] = le_user.fit_transform(train['user_id'].values)\n",
    "train['item_id_idx'] = le_item.fit_transform(train['item_id'].values)"
   ]
  },
  {
   "cell_type": "code",
   "execution_count": 26,
   "metadata": {},
   "outputs": [
    {
     "name": "stdout",
     "output_type": "stream",
     "text": [
      "3924 3058\n",
      "25060\n"
     ]
    }
   ],
   "source": [
    "train_user_ids = train['user_id'].unique()\n",
    "train_item_ids = train['item_id'].unique()\n",
    "\n",
    "print(len(train_user_ids), len(train_item_ids))\n",
    "\n",
    "test = test[(test['user_id'].isin(train_user_ids)) & (test['item_id'].isin(train_item_ids))]\n",
    "print(len(test))"
   ]
  },
  {
   "cell_type": "code",
   "execution_count": 27,
   "metadata": {},
   "outputs": [],
   "source": [
    "test['user_id_idx'] = le_user.transform(test['user_id'].values)\n",
    "test['item_id_idx'] = le_item.transform(test['item_id'].values)\n"
   ]
  },
  {
   "cell_type": "code",
   "execution_count": 28,
   "metadata": {},
   "outputs": [
    {
     "name": "stdout",
     "output_type": "stream",
     "text": [
      "Number of Unique Users :  3924\n",
      "Number of unique Items :  3058\n"
     ]
    }
   ],
   "source": [
    "n_users = train['user_id_idx'].nunique()\n",
    "n_items = train['item_id_idx'].nunique()\n",
    "print(\"Number of Unique Users : \", n_users)\n",
    "print(\"Number of unique Items : \", n_items)"
   ]
  },
  {
   "cell_type": "code",
   "execution_count": 29,
   "metadata": {},
   "outputs": [],
   "source": [
    "latent_dim = 64\n",
    "n_layers = 3  "
   ]
  },
  {
   "cell_type": "code",
   "execution_count": 30,
   "metadata": {},
   "outputs": [],
   "source": [
    "def convert_to_sparse_tensor(dok_mtrx):\n",
    "    \n",
    "    dok_mtrx_coo = dok_mtrx.tocoo().astype(np.float32)\n",
    "    values = dok_mtrx_coo.data\n",
    "    indices = np.vstack((dok_mtrx_coo.row, dok_mtrx_coo.col))\n",
    "\n",
    "    i = torch.LongTensor(indices)\n",
    "    v = torch.FloatTensor(values)\n",
    "    shape = dok_mtrx_coo.shape\n",
    "\n",
    "    dok_mtrx_sparse_tensor = torch.sparse.FloatTensor(i, v, torch.Size(shape))\n",
    "\n",
    "    return dok_mtrx_sparse_tensor"
   ]
  },
  {
   "cell_type": "code",
   "execution_count": 31,
   "metadata": {},
   "outputs": [],
   "source": [
    "def get_metrics(\n",
    "    user_Embed_wts, item_Embed_wts, n_users, n_items, train_data, test_data, K\n",
    "):\n",
    "\n",
    "    user_Embedding = nn.Embedding(\n",
    "        user_Embed_wts.size()[0], user_Embed_wts.size()[1], _weight=user_Embed_wts\n",
    "    )\n",
    "    item_Embedding = nn.Embedding(\n",
    "        item_Embed_wts.size()[0], item_Embed_wts.size()[1], _weight=item_Embed_wts\n",
    "    )\n",
    "\n",
    "    test_user_ids = torch.LongTensor(test_data[\"user_id_idx\"].unique())\n",
    "\n",
    "    relevance_score = torch.matmul(\n",
    "        user_Embed_wts, torch.transpose(item_Embed_wts, 0, 1)\n",
    "    )\n",
    "\n",
    "    R = sp.dok_matrix((n_users, n_items), dtype=np.float32)\n",
    "    R[train_data[\"user_id_idx\"], train_data[\"item_id_idx\"]] = 1.0\n",
    "\n",
    "    R_tensor = convert_to_sparse_tensor(R)\n",
    "    R_tensor_dense = R_tensor.to_dense()\n",
    "\n",
    "    R_tensor_dense = R_tensor_dense * (-np.inf)\n",
    "    R_tensor_dense = torch.nan_to_num(R_tensor_dense, nan=0.0)\n",
    "\n",
    "    relevance_score = relevance_score + R_tensor_dense\n",
    "\n",
    "    topk_relevance_score = torch.topk(relevance_score, K).values\n",
    "    topk_relevance_indices = torch.topk(relevance_score, K).indices\n",
    "\n",
    "    topk_relevance_indices_df = pd.DataFrame(\n",
    "        topk_relevance_indices.numpy(),\n",
    "        columns=[\"top_indx_\" + str(x + 1) for x in range(K)],\n",
    "    )\n",
    "\n",
    "    topk_relevance_indices_df[\"user_ID\"] = topk_relevance_indices_df.index\n",
    "\n",
    "    topk_relevance_indices_df[\"top_rlvnt_itm\"] = topk_relevance_indices_df[\n",
    "        [\"top_indx_\" + str(x + 1) for x in range(K)]\n",
    "    ].values.tolist()\n",
    "    topk_relevance_indices_df = topk_relevance_indices_df[[\"user_ID\", \"top_rlvnt_itm\"]]\n",
    "\n",
    "    test_interacted_items = (\n",
    "        test_data.groupby(\"user_id_idx\")[\"item_id_idx\"].apply(list).reset_index()\n",
    "    )\n",
    "\n",
    "    metrics_df = pd.merge(\n",
    "        test_interacted_items,\n",
    "        topk_relevance_indices_df,\n",
    "        how=\"left\",\n",
    "        left_on=\"user_id_idx\",\n",
    "        right_on=[\"user_ID\"],\n",
    "    )\n",
    "    metrics_df[\"intrsctn_itm\"] = [\n",
    "        list(set(a).intersection(b))\n",
    "        for a, b in zip(metrics_df.item_id_idx, metrics_df.top_rlvnt_itm)\n",
    "    ]\n",
    "    metrics_df[\"recall\"] = metrics_df.apply(\n",
    "        lambda x: len(x[\"intrsctn_itm\"]) / len(x[\"item_id_idx\"]), axis=1\n",
    "    )\n",
    "    metrics_df[\"precision\"] = metrics_df.apply(\n",
    "        lambda x: len(x[\"intrsctn_itm\"]) / K, axis=1\n",
    "    )\n",
    "\n",
    "    def get_hit_list(item_id_idx, top_rlvnt_itm):\n",
    "        return [1 if x in set(item_id_idx) else 0 for x in top_rlvnt_itm]\n",
    "\n",
    "    metrics_df[\"hit_list\"] = metrics_df.apply(\n",
    "        lambda x: get_hit_list(x[\"item_id_idx\"], x[\"top_rlvnt_itm\"]), axis=1\n",
    "    )\n",
    "\n",
    "    def get_dcg_idcg(item_id_idx, hit_list):\n",
    "        idcg = sum(\n",
    "            [\n",
    "                1 / np.log1p(idx + 1)\n",
    "                for idx in range(min(len(item_id_idx), len(hit_list)))\n",
    "            ]\n",
    "        )\n",
    "        dcg = sum([hit / np.log1p(idx + 1) for idx, hit in enumerate(hit_list)])\n",
    "        return dcg / idcg\n",
    "\n",
    "    def get_cumsum(hit_list):\n",
    "        return np.cumsum(hit_list)\n",
    "\n",
    "    def get_map(item_id_idx, hit_list, hit_list_cumsum):\n",
    "        return sum(\n",
    "            [\n",
    "                hit_cumsum * hit / (idx + 1)\n",
    "                for idx, (hit, hit_cumsum) in enumerate(zip(hit_list, hit_list_cumsum))\n",
    "            ]\n",
    "        ) / len(item_id_idx)\n",
    "\n",
    "    metrics_df[\"ndcg\"] = metrics_df.apply(\n",
    "        lambda x: get_dcg_idcg(x[\"item_id_idx\"], x[\"hit_list\"]), axis=1\n",
    "    )\n",
    "    metrics_df[\"hit_list_cumsum\"] = metrics_df.apply(\n",
    "        lambda x: get_cumsum(x[\"hit_list\"]), axis=1\n",
    "    )\n",
    "\n",
    "    metrics_df[\"map\"] = metrics_df.apply(\n",
    "        lambda x: get_map(x[\"item_id_idx\"], x[\"hit_list\"], x[\"hit_list_cumsum\"]), axis=1\n",
    "    )\n",
    "\n",
    "    return (\n",
    "        metrics_df[\"recall\"].mean(),\n",
    "        metrics_df[\"precision\"].mean(),\n",
    "        metrics_df[\"ndcg\"].mean(),\n",
    "        metrics_df[\"map\"].mean(),\n",
    "    )\n"
   ]
  },
  {
   "cell_type": "code",
   "execution_count": 32,
   "metadata": {},
   "outputs": [],
   "source": [
    "class LightGCN(nn.Module):\n",
    "    def __init__(self, data, n_users, n_items, n_layers, latent_dim):\n",
    "        super(LightGCN, self).__init__()\n",
    "        self.data = data\n",
    "        self.n_users = n_users\n",
    "        self.n_items = n_items\n",
    "        self.n_layers = n_layers\n",
    "        self.latent_dim = latent_dim\n",
    "        self.init_embedding()\n",
    "        self.norm_adj_mat_sparse_tensor = self.get_A_tilda()\n",
    "\n",
    "    def init_embedding(self):\n",
    "        self.E0 = nn.Embedding(self.n_users + self.n_items, self.latent_dim)\n",
    "        nn.init.xavier_uniform_(self.E0.weight)\n",
    "        self.E0.weight = nn.Parameter(self.E0.weight)\n",
    "\n",
    "    def get_A_tilda(self):\n",
    "        R = sp.dok_matrix((self.n_users, self.n_items), dtype = np.float32)\n",
    "        R[self.data['user_id_idx'], self.data['item_id_idx']] = 1.0\n",
    "\n",
    "        adj_mat = sp.dok_matrix(\n",
    "                (self.n_users + self.n_items, self.n_users + self.n_items), dtype=np.float32\n",
    "            )\n",
    "        adj_mat = adj_mat.tolil()\n",
    "        R = R.tolil()\n",
    "\n",
    "        adj_mat[: n_users, n_users :] = R\n",
    "        adj_mat[n_users :, : n_users] = R.T\n",
    "        adj_mat = adj_mat.todok()\n",
    "\n",
    "        rowsum = np.array(adj_mat.sum(1))\n",
    "        d_inv = np.power(rowsum + 1e-9, -0.5).flatten()\n",
    "        d_inv[np.isinf(d_inv)] = 0.0\n",
    "        d_mat_inv = sp.diags(d_inv)\n",
    "        norm_adj_mat = d_mat_inv.dot(adj_mat)\n",
    "        norm_adj_mat = norm_adj_mat.dot(d_mat_inv)\n",
    "        \n",
    "        # Below Code is toconvert the dok_matrix to sparse tensor.\n",
    "        \n",
    "        norm_adj_mat_coo = norm_adj_mat.tocoo().astype(np.float32)\n",
    "        values = norm_adj_mat_coo.data\n",
    "        indices = np.vstack((norm_adj_mat_coo.row, norm_adj_mat_coo.col))\n",
    "\n",
    "        i = torch.LongTensor(indices)\n",
    "        v = torch.FloatTensor(values)\n",
    "        shape = norm_adj_mat_coo.shape\n",
    "\n",
    "        norm_adj_mat_sparse_tensor = torch.sparse.FloatTensor(i, v, torch.Size(shape))\n",
    "\n",
    "        return norm_adj_mat_sparse_tensor\n",
    "    \n",
    "    def propagate_through_layers(self):\n",
    "        all_layer_embedding = [self.E0.weight]\n",
    "        E_lyr = self.E0.weight\n",
    "\n",
    "        for layer in range(self.n_layers):\n",
    "            E_lyr = torch.sparse.mm(self.norm_adj_mat_sparse_tensor, E_lyr)\n",
    "            all_layer_embedding.append(E_lyr)\n",
    "\n",
    "        all_layer_embedding = torch.stack(all_layer_embedding)\n",
    "        mean_layer_embedding = torch.mean(all_layer_embedding, axis = 0)\n",
    "\n",
    "        final_user_Embed, final_item_Embed = torch.split(mean_layer_embedding, [n_users, n_items])\n",
    "        initial_user_Embed, initial_item_Embed = torch.split(self.E0.weight, [n_users, n_items])\n",
    "\n",
    "        return final_user_Embed, final_item_Embed, initial_user_Embed, initial_item_Embed\n",
    "\n",
    "    def forward(self, users, pos_items, neg_items):\n",
    "        final_user_Embed, final_item_Embed, initial_user_Embed, initial_item_Embed = self.propagate_through_layers()\n",
    "\n",
    "        users_emb, pos_emb, neg_emb = final_user_Embed[users], final_item_Embed[pos_items], final_item_Embed[neg_items]\n",
    "        userEmb0,  posEmb0, negEmb0 = initial_user_Embed[users], initial_item_Embed[pos_items], initial_item_Embed[neg_items]\n",
    "\n",
    "        return users_emb, pos_emb, neg_emb, userEmb0,  posEmb0, negEmb0"
   ]
  },
  {
   "cell_type": "code",
   "execution_count": 33,
   "metadata": {},
   "outputs": [],
   "source": [
    "lightGCN = LightGCN(train, n_users, n_items, n_layers, latent_dim)"
   ]
  },
  {
   "cell_type": "code",
   "execution_count": 34,
   "metadata": {},
   "outputs": [
    {
     "name": "stdout",
     "output_type": "stream",
     "text": [
      "Size of Learnable Embedding :  torch.Size([6982, 64])\n"
     ]
    }
   ],
   "source": [
    "print(\"Size of Learnable Embedding : \", list(lightGCN.parameters())[0].size())"
   ]
  },
  {
   "cell_type": "code",
   "execution_count": 35,
   "metadata": {},
   "outputs": [],
   "source": [
    "def bpr_loss(users, users_emb, pos_emb, neg_emb, userEmb0,  posEmb0, negEmb0):\n",
    "  \n",
    "    reg_loss = (1/2)*(userEmb0.norm().pow(2) + \n",
    "                    posEmb0.norm().pow(2)  +\n",
    "                    negEmb0.norm().pow(2))/float(len(users))\n",
    "    pos_scores = torch.mul(users_emb, pos_emb)\n",
    "    pos_scores = torch.sum(pos_scores, dim=1)\n",
    "    neg_scores = torch.mul(users_emb, neg_emb)\n",
    "    neg_scores = torch.sum(neg_scores, dim=1)\n",
    "        \n",
    "    loss = torch.mean(torch.nn.functional.softplus(neg_scores - pos_scores))\n",
    "        \n",
    "    return loss, reg_loss"
   ]
  },
  {
   "cell_type": "code",
   "execution_count": 36,
   "metadata": {},
   "outputs": [],
   "source": [
    "def data_loader(data, batch_size, n_usr, n_itm):\n",
    "  \n",
    "    interected_items_df = data.groupby('user_id_idx')['item_id_idx'].apply(list).reset_index()\n",
    "  \n",
    "    def sample_neg(x):\n",
    "        while True:\n",
    "            neg_id = random.randint(0, n_itm - 1)\n",
    "            if neg_id not in x:\n",
    "                return neg_id\n",
    "  \n",
    "    indices = [x for x in range(n_usr)]\n",
    "    \n",
    "    if n_usr < batch_size:\n",
    "        users = [random.choice(indices) for _ in range(batch_size)]\n",
    "    else:\n",
    "        users = random.sample(indices, batch_size)\n",
    "\n",
    "    users.sort()\n",
    "  \n",
    "    users_df = pd.DataFrame(users,columns = ['users'])\n",
    "\n",
    "    interected_items_df = pd.merge(interected_items_df, users_df, how = 'right', left_on = 'user_id_idx', right_on = 'users')\n",
    "  \n",
    "    pos_items = interected_items_df['item_id_idx'].apply(lambda x : random.choice(x)).values\n",
    "\n",
    "    neg_items = interected_items_df['item_id_idx'].apply(lambda x: sample_neg(x)).values\n",
    "\n",
    "    return list(users), list(pos_items), list(neg_items)"
   ]
  },
  {
   "cell_type": "code",
   "execution_count": 37,
   "metadata": {},
   "outputs": [],
   "source": [
    "optimizer = torch.optim.Adam(lightGCN.parameters(), lr = 0.005)"
   ]
  },
  {
   "cell_type": "code",
   "execution_count": 38,
   "metadata": {},
   "outputs": [],
   "source": [
    "EPOCHS = 30\n",
    "BATCH_SIZE = 1024 \n",
    "DECAY = 0.0001\n",
    "K = 10"
   ]
  },
  {
   "cell_type": "code",
   "execution_count": 42,
   "metadata": {},
   "outputs": [
    {
     "name": "stderr",
     "output_type": "stream",
     "text": [
      "\n",
      "\n",
      "\u001b[A\u001b[AException ignored in: <function tqdm.__del__ at 0x1178d2200>\n",
      "Traceback (most recent call last):\n",
      "  File \"/Users/kenchu/code/ai/.venv/lib/python3.10/site-packages/tqdm/std.py\", line 1162, in __del__\n",
      "    self.close()\n",
      "  File \"/Users/kenchu/code/ai/.venv/lib/python3.10/site-packages/tqdm/notebook.py\", line 288, in close\n",
      "    self.disp(bar_style='danger', check_delay=False)\n",
      "AttributeError: 'tqdm_notebook' object has no attribute 'disp'\n",
      "Exception ignored in: <function tqdm.__del__ at 0x1178d2200>\n",
      "Traceback (most recent call last):\n",
      "  File \"/Users/kenchu/code/ai/.venv/lib/python3.10/site-packages/tqdm/std.py\", line 1162, in __del__\n",
      "    self.close()\n",
      "  File \"/Users/kenchu/code/ai/.venv/lib/python3.10/site-packages/tqdm/notebook.py\", line 288, in close\n",
      "    self.disp(bar_style='danger', check_delay=False)\n",
      "AttributeError: 'tqdm_notebook' object has no attribute 'disp'\n",
      "\n",
      "\n",
      "\u001b[A\u001b[A\n",
      "\n",
      "\u001b[A\u001b[A\n",
      "\n",
      "\u001b[A\u001b[A\n",
      "\n",
      "\u001b[A\u001b[A\n",
      "\n",
      "\u001b[A\u001b[A\n",
      "\n",
      "\u001b[A\u001b[A\n",
      "\n",
      "\u001b[A\u001b[A\n",
      "\n",
      "\u001b[A\u001b[A\n",
      "\n",
      "\u001b[A\u001b[A\n",
      "\n",
      "\u001b[A\u001b[A\n",
      "\n",
      "\u001b[A\u001b[A\n",
      "\n",
      "\u001b[A\u001b[A\n",
      "\n",
      "\u001b[A\u001b[A\n",
      "\n",
      "\u001b[A\u001b[A\n",
      "\n",
      "\u001b[A\u001b[A\n",
      "\n",
      "\u001b[A\u001b[A\n",
      "\n",
      "\u001b[A\u001b[A\n",
      "\n",
      "\u001b[A\u001b[A\n",
      "\n",
      "\u001b[A\u001b[A\n",
      "\n",
      "\u001b[A\u001b[A\n",
      "\n",
      "\u001b[A\u001b[A\n",
      "\n",
      "\u001b[A\u001b[A\n",
      "\n",
      "\u001b[A\u001b[A\n",
      "\n",
      "\u001b[A\u001b[A\n",
      "\n",
      "\u001b[A\u001b[A\n",
      "\n",
      "\u001b[A\u001b[A\n",
      "\n",
      "\u001b[A\u001b[A\n",
      "\n",
      "\u001b[A\u001b[A\n",
      "\n",
      "\u001b[A\u001b[A\n",
      "\n",
      "100%|██████████| 30/30 [15:19<00:00, 30.64s/it]\n"
     ]
    }
   ],
   "source": [
    "loss_list_epoch = []\n",
    "MF_loss_list_epoch = []\n",
    "reg_loss_list_epoch = []\n",
    "\n",
    "recall_list = []\n",
    "precision_list = []\n",
    "ndcg_list = []\n",
    "map_list = []\n",
    "\n",
    "train_time_list = []\n",
    "eval_time_list = []\n",
    "\n",
    "for epoch in tqdm(range(EPOCHS)):\n",
    "    n_batch = int(len(train) / BATCH_SIZE)\n",
    "\n",
    "    final_loss_list = []\n",
    "    MF_loss_list = []\n",
    "    reg_loss_list = []\n",
    "\n",
    "    best_ndcg = -1\n",
    "\n",
    "    train_start_time = time.time()\n",
    "    lightGCN.train()\n",
    "    for batch_idx in range(n_batch):\n",
    "\n",
    "        optimizer.zero_grad()\n",
    "\n",
    "        users, pos_items, neg_items = data_loader(train, BATCH_SIZE, n_users, n_items)\n",
    "\n",
    "        users_emb, pos_emb, neg_emb, userEmb0, posEmb0, negEmb0 = lightGCN.forward(\n",
    "            users, pos_items, neg_items\n",
    "        )\n",
    "\n",
    "        mf_loss, reg_loss = bpr_loss(\n",
    "            users, users_emb, pos_emb, neg_emb, userEmb0, posEmb0, negEmb0\n",
    "        )\n",
    "        reg_loss = DECAY * reg_loss\n",
    "        final_loss = mf_loss + reg_loss\n",
    "\n",
    "        final_loss.backward()\n",
    "        optimizer.step()\n",
    "\n",
    "        final_loss_list.append(final_loss.item())\n",
    "        MF_loss_list.append(mf_loss.item())\n",
    "        reg_loss_list.append(reg_loss.item())\n",
    "\n",
    "    train_end_time = time.time()\n",
    "    train_time = train_end_time - train_start_time\n",
    "\n",
    "    lightGCN.eval()\n",
    "    with torch.no_grad():\n",
    "\n",
    "        (\n",
    "            final_user_Embed,\n",
    "            final_item_Embed,\n",
    "            initial_user_Embed,\n",
    "            initial_item_Embed,\n",
    "        ) = lightGCN.propagate_through_layers()\n",
    "        (\n",
    "            test_topK_recall,\n",
    "            test_topK_precision,\n",
    "            test_topK_ndcg,\n",
    "            test_topK_map,\n",
    "        ) = get_metrics(\n",
    "            final_user_Embed, final_item_Embed, n_users, n_items, train, test, K\n",
    "        )\n",
    "\n",
    "    if test_topK_ndcg > best_ndcg:\n",
    "        best_ndcg = test_topK_ndcg\n",
    "\n",
    "        torch.save(final_user_Embed, \"final_user_Embed.pt\")\n",
    "        torch.save(final_item_Embed, \"final_item_Embed.pt\")\n",
    "        torch.save(initial_user_Embed, \"initial_user_Embed.pt\")\n",
    "        torch.save(initial_item_Embed, \"initial_item_Embed.pt\")\n",
    "\n",
    "    eval_time = time.time() - train_end_time\n",
    "\n",
    "    loss_list_epoch.append(round(np.mean(final_loss_list), 4))\n",
    "    MF_loss_list_epoch.append(round(np.mean(MF_loss_list), 4))\n",
    "    reg_loss_list_epoch.append(round(np.mean(reg_loss_list), 4))\n",
    "\n",
    "    recall_list.append(round(test_topK_recall, 4))\n",
    "    precision_list.append(round(test_topK_precision, 4))\n",
    "    ndcg_list.append(round(test_topK_ndcg, 4))\n",
    "    map_list.append(round(test_topK_map, 4))\n",
    "\n",
    "    train_time_list.append(train_time)\n",
    "    eval_time_list.append(eval_time)\n"
   ]
  },
  {
   "cell_type": "code",
   "execution_count": 44,
   "metadata": {},
   "outputs": [],
   "source": [
    "epoch_list = [(i+1) for i in range(EPOCHS)]"
   ]
  },
  {
   "cell_type": "code",
   "execution_count": 45,
   "metadata": {},
   "outputs": [
    {
     "data": {
      "text/plain": [
       "<matplotlib.legend.Legend at 0x1410f31f0>"
      ]
     },
     "execution_count": 45,
     "metadata": {},
     "output_type": "execute_result"
    },
    {
     "data": {
      "image/png": "[encoded data removed]",
      "text/plain": [
       "<Figure size 640x480 with 1 Axes>"
      ]
     },
     "metadata": {},
     "output_type": "display_data"
    }
   ],
   "source": [
    "plt.plot(epoch_list, recall_list, label='Recall')\n",
    "plt.plot(epoch_list, precision_list, label='Precision')\n",
    "plt.plot(epoch_list, ndcg_list, label='NDCG')\n",
    "plt.plot(epoch_list, map_list, label='MAP')\n",
    "plt.xlabel('Epoch')\n",
    "plt.ylabel('Metrics')\n",
    "plt.legend()"
   ]
  },
  {
   "cell_type": "code",
   "execution_count": 46,
   "metadata": {},
   "outputs": [
    {
     "data": {
      "text/plain": [
       "<matplotlib.legend.Legend at 0x1414f3a60>"
      ]
     },
     "execution_count": 46,
     "metadata": {},
     "output_type": "execute_result"
    },
    {
     "data": {
      "image/png": "[encoded data removed]",
      "text/plain": [
       "<Figure size 640x480 with 1 Axes>"
      ]
     },
     "metadata": {},
     "output_type": "display_data"
    }
   ],
   "source": [
    "plt.plot(epoch_list, loss_list_epoch, label='Total Training Loss')\n",
    "plt.plot(epoch_list, MF_loss_list_epoch, label='MF Training Loss')\n",
    "plt.plot(epoch_list, reg_loss_list_epoch, label='Reg Training Loss')\n",
    "\n",
    "plt.xlabel('Epoch')\n",
    "plt.ylabel('Loss')\n",
    "plt.legend()"
   ]
  },
  {
   "cell_type": "code",
   "execution_count": 47,
   "metadata": {},
   "outputs": [
    {
     "name": "stdout",
     "output_type": "stream",
     "text": [
      "Averge time taken to train an epoch ->  28.7  seconds\n",
      "Averge time taken to eval an epoch ->  1.9  seconds\n"
     ]
    }
   ],
   "source": [
    "print(\"Averge time taken to train an epoch -> \", round(np.mean(train_time_list),2), \" seconds\")\n",
    "print(\"Averge time taken to eval an epoch -> \", round(np.mean(eval_time_list),2), \" seconds\")"
   ]
  },
  {
   "cell_type": "code",
   "execution_count": 48,
   "metadata": {},
   "outputs": [
    {
     "name": "stdout",
     "output_type": "stream",
     "text": [
      "Last Epoch's Test Data Recall ->  0.0667\n",
      "Last Epoch's Test Data Precision ->  0.0417\n",
      "Last Epoch's Test Data NDCG ->  0.065\n",
      "Last Epoch's Test Data MAP ->  0.0275\n",
      "Last Epoch's Train Data Loss ->  0.0777\n"
     ]
    }
   ],
   "source": [
    "print(\"Last Epoch's Test Data Recall -> \", recall_list[-1])\n",
    "print(\"Last Epoch's Test Data Precision -> \", precision_list[-1])\n",
    "print(\"Last Epoch's Test Data NDCG -> \", ndcg_list[-1])\n",
    "print(\"Last Epoch's Test Data MAP -> \", map_list[-1])\n",
    "\n",
    "print(\"Last Epoch's Train Data Loss -> \", loss_list_epoch[-1])"
   ]
  },
  {
   "cell_type": "code",
   "execution_count": null,
   "metadata": {},
   "outputs": [],
   "source": []
  }
 ],
 "metadata": {
  "kernelspec": {
   "display_name": "Python 3.10.8 ('.venv': venv)",
   "language": "python",
   "name": "python3"
  },
  "language_info": {
   "codemirror_mode": {
    "name": "ipython",
    "version": 3
   },
   "file_extension": ".py",
   "mimetype": "text/x-python",
   "name": "python",
   "nbconvert_exporter": "python",
   "pygments_lexer": "ipython3",
   "version": "3.10.8"
  },
  "orig_nbformat": 4,
  "vscode": {
   "interpreter": {
    "hash": "abf09df545a620efd0fce530660678bda980672eb17dad46712cf56f8df7a29b"
   }
  }
 },
 "nbformat": 4,
 "nbformat_minor": 2
}
